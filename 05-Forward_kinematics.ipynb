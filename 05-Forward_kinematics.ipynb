{
 "cells": [
  {
   "cell_type": "markdown",
   "metadata": {},
   "source": [
    "<h1>Table of Contents<span class=\"tocSkip\"></span></h1>\n",
    "<div class=\"toc\">\n",
    "    <ul class=\"toc-item\">\n",
    "        <li>\n",
    "            <span><a href=\"#Forward-Kinematics\" data-toc-modified-id=\"Forward- Kinematics-1\">\n",
    "            <span class=\"toc-item-num\">1&nbsp;&nbsp;</span>Forward Kinematics</a></span>\n",
    "        </li>        \n",
    "        <li>\n",
    "            <span><a href=\"#Calculation-of-Forward-Kinematics\" data-toc-modified-id=\"Calculation-of-Forward-Kinematics-2\">\n",
    "            <span class=\"toc-item-num\">2&nbsp;&nbsp;</span>Calculation of Forward Kinematics</a></span>\n",
    "        </li>        \n",
    "        <li>\n",
    "            <span><a href=\"#Code-Example\" data-toc-modified-id=\"Code-Example-3\">\n",
    "            <span class=\"toc-item-num\">3&nbsp;&nbsp;</span>Code Example</a></span>\n",
    "        </li>\n",
    "    </ul>\n",
    "</div>"
   ]
  },
  {
   "cell_type": "markdown",
   "metadata": {},
   "source": [
    "## Forward Kinematics\n",
    "The *forward kinematics* of a robot refers to the calculation of the position and orientation of its end-effector frame from its joint coordinates $\\theta$. "
   ]
  },
  {
   "cell_type": "markdown",
   "metadata": {},
   "source": [
    "## Calculation of Forward Kinematics"
   ]
  },
  {
   "cell_type": "markdown",
   "metadata": {},
   "source": [
    "Forward Kinematics can be calculated with basic trigonometry, however, more general spatial chains the analysis can be come considerably more complicated. In this case, two more systematic methods of deriving the forward kinematics are proposed."
   ]
  },
  {
   "cell_type": "markdown",
   "metadata": {},
   "source": [
    "### 1. Denavit-Hartenberg Representation\n",
    "*Denavit–Hartenberg parameters* (also called DH parameters) are the four parameters associated with a particular convention for attaching reference frames to the links of a spatial kinematic chain, or robot manipulator. [[wiki](https://en.wikipedia.org/wiki/Denavit%E2%80%93Hartenberg_parameters)]"
   ]
  },
  {
   "cell_type": "markdown",
   "metadata": {},
   "source": [
    "The Denavit–Hartenberg parameters include $\\theta, \\alpha, r$, and $d$. For two contiguous frames $n$ and $n-1$ as shown below\n",
    "![local image](img/DHframe.png) [[wiki](https://en.wikipedia.org/wiki/Denavit%E2%80%93Hartenberg_parameters)]\n",
    "\n",
    "$\\theta$ is the rotation of frame $n-1$ needed aruond  $z_{n-1}$ so that $x_{n-1}$ could match (same direction) $x_{n}$.\n",
    "\n",
    "$\\alpha$ indicates the rotation of the $n-1$ needed aruond $x_{n}$ so that $z_{n-1}$ could match $z_{n}$.\n",
    "\n",
    "$r$ is the distance from $o_{n-1}$ to $o_{n}$ along $x_{n}$ direction where $o_{n-1}$ and $o_{n}$ are origns of frame $n-1$ and $n$. \n",
    "\n",
    "$d$ is the distance from $o_{n-1}$ to $o_{n}$ along $z_{n-1}$ direction."
   ]
  },
  {
   "cell_type": "markdown",
   "metadata": {},
   "source": [
    "With Denavit–Hartenberg parameters, Denavit-Hartenberg matrix can be presented as \n",
    "\n",
    "![local image](img/dh.svg)\n",
    "\n",
    "And the Denavit-Hartenberg matrix is used to calculate new configuration of the end effector $T^{n}_{0} = T^{1}_{0}T^{2}_{1}...T^{n}_{n-1}$."
   ]
  },
  {
   "cell_type": "markdown",
   "metadata": {},
   "source": [
    "### 2. Product of Exponentials (PoE) Representation\n",
    "The PoE representation has advantages over the direct method and it is a preferred choice of forward kniematics representation. The new configuration of the end effector $T$ can be expressed with the equation $T = e^{[S_{1}]\\theta_{1}}...e^{[S_{n-1}]\\theta_{n-1}}e^{[S_{n}]\\theta_{n}}M$"
   ]
  },
  {
   "cell_type": "markdown",
   "metadata": {},
   "source": [
    "where $S_{n}$ is the screw axis of joint $n$ as expressed in the fixed base frame {0} and \n",
    "\n",
    "$$S_{n} = \\begin{bmatrix} [w_{n}] & v_{n} \\\\ 0 & 0 \\end{bmatrix}$$\n",
    "\n",
    "and \n",
    "\n",
    "$$w_{n} = \\begin{bmatrix} 0 & -w^{3}_{n} & w^{2}_{n} \\\\ w^{3}_{n} & 0 & -w^{1}_{n}\\\\ -w^{2}_{n} & w^{1}_{n} & 0 \\end{bmatrix}$$\n",
    "\n",
    "$w^{i}_{n}$ is the $i^{th}$ element in $w_{n}$ \n",
    "\n",
    "$w_{n}$ is angular velocity of joint axis $n$ and $w^{i}_{n}$ is the $i^{th}$ element in $w_{n}$. $v$ is the linear velocity of joint axis ${n}$, and $v_{n} = w_{n}*q_{n}$ where $q_{n}$ is any arbitary point on joint axis $n$. $\\theta_{n}$ is the joint variable. Term $M$ is the end-effector configuration when the robot is at its home position. "
   ]
  },
  {
   "cell_type": "markdown",
   "metadata": {},
   "source": [
    "![local image](img/poe.jpg) [[source](https://automaticaddison.com/how-to-perform-a-pick-and-place-task-with-a-diy-scara-robot/)]"
   ]
  },
  {
   "cell_type": "markdown",
   "metadata": {},
   "source": [
    "The figure above shows a RRP robot. We will explain PoE by showing the configuration of end-effector frane {3}. Let $M$ be position and orientation of frame when all joint angles are set to zero, then\n",
    "\n",
    "$$M = \\begin{bmatrix} 1 & 0 & 0 & 0\\\\ 0 & 1 & 0 & a_{2} + a_{4} \\\\ 0 & 0 & 1 & a_{5} - a_{3} - d_{3}\\\\ 0 & 0 & 0 & 1 \\end{bmatrix}$$\n",
    "\n",
    "Joint {1} rotate around $z_{0}$, so $ω_{1} = (0,0,1)$, and we pick the origin of {1} as $q_{1}$, then $q_{1} = (0, 0, 0)$. Further more, we can get $v_{1} = w_{1}*q_{1} = (0, 0, 0)$. Joint {2} rotate around $z_{0}$ axis, so $ω_{2} = (0,0,1)$, and we choose $q_{2} = (a_{2}, 0, 0)$. $v_{2} = w_{2}*q_{2} = (0, a_{2}, 0)$. Joint {3} is a primastic joint can only mocwe along $z_{0}$ axis, and there is no rotation vevocity. In this case, $ω_{3} = (0,0,0)$   $v_{3} = (0,0,1)$. \n",
    "\n",
    "With all the parameters, $S_{n}$ can be calculated and The new end-effector configuration is $ T = e^{S_{1}\\theta_{1}}e^{S_{2}\\theta_{2}}e^{S_{3}\\theta_{3}}M$"
   ]
  },
  {
   "cell_type": "markdown",
   "metadata": {},
   "source": [
    "## Code Example"
   ]
  },
  {
   "cell_type": "code",
   "execution_count": 1,
   "metadata": {},
   "outputs": [
    {
     "ename": "ImportError",
     "evalue": "No module named 'pybotics'",
     "output_type": "error",
     "traceback": [
      "\u001b[0;31m---------------------------------------------------------------------------\u001b[0m",
      "\u001b[0;31mImportError\u001b[0m                               Traceback (most recent call last)",
      "\u001b[0;32m<ipython-input-1-b05d9c5589b0>\u001b[0m in \u001b[0;36m<module>\u001b[0;34m\u001b[0m\n\u001b[1;32m      1\u001b[0m \u001b[0;31m# Source https://github.com/nnadeau/pybotics/blob/master/examples/kinematics.ipynb\u001b[0m\u001b[0;34m\u001b[0m\u001b[0;34m\u001b[0m\u001b[0m\n\u001b[0;32m----> 2\u001b[0;31m \u001b[0;32mfrom\u001b[0m \u001b[0mpybotics\u001b[0m\u001b[0;34m.\u001b[0m\u001b[0mrobot\u001b[0m \u001b[0;32mimport\u001b[0m \u001b[0mRobot\u001b[0m\u001b[0;34m\u001b[0m\u001b[0m\n\u001b[0m\u001b[1;32m      3\u001b[0m \u001b[0;32mfrom\u001b[0m \u001b[0mpybotics\u001b[0m\u001b[0;34m.\u001b[0m\u001b[0mpredefined_models\u001b[0m \u001b[0;32mimport\u001b[0m \u001b[0mur10\u001b[0m\u001b[0;34m\u001b[0m\u001b[0m\n\u001b[1;32m      4\u001b[0m \u001b[0mrobot\u001b[0m \u001b[0;34m=\u001b[0m \u001b[0mRobot\u001b[0m\u001b[0;34m.\u001b[0m\u001b[0mfrom_parameters\u001b[0m\u001b[0;34m(\u001b[0m\u001b[0mur10\u001b[0m\u001b[0;34m(\u001b[0m\u001b[0;34m)\u001b[0m\u001b[0;34m)\u001b[0m\u001b[0;34m\u001b[0m\u001b[0m\n\u001b[1;32m      5\u001b[0m \u001b[0;32mimport\u001b[0m \u001b[0mnumpy\u001b[0m \u001b[0;32mas\u001b[0m \u001b[0mnp\u001b[0m\u001b[0;34m\u001b[0m\u001b[0m\n",
      "\u001b[0;31mImportError\u001b[0m: No module named 'pybotics'"
     ]
    }
   ],
   "source": [
    "# Source https://github.com/nnadeau/pybotics/blob/master/examples/kinematics.ipynb\n",
    "from pybotics.robot import Robot\n",
    "from pybotics.predefined_models import ur10\n",
    "robot = Robot.from_parameters(ur10())\n",
    "import numpy as np\n",
    "np.set_printoptions(suppress=True)\n",
    "joints = np.deg2rad([5,5,5,5,5,5])\n",
    "pose = robot.fk(joints)\n",
    "display(pose)"
   ]
  },
  {
   "cell_type": "markdown",
   "metadata": {},
   "source": [
    "The above example shows how forward kinematic works. The ur10 robot is a robotic arm with 6 revolute joints. A joint coordinate of 5 was given to each joint of the ur10 robot and a 4x4 transform matrix was returned to show the pose of the end effector. "
   ]
  }
 ],
 "metadata": {
  "kernelspec": {
   "display_name": "Python 3",
   "language": "python",
   "name": "python3"
  },
  "language_info": {
   "codemirror_mode": {
    "name": "ipython",
    "version": 3
   },
   "file_extension": ".py",
   "mimetype": "text/x-python",
   "name": "python",
   "nbconvert_exporter": "python",
   "pygments_lexer": "ipython3",
   "version": "3.5.2"
  }
 },
 "nbformat": 4,
 "nbformat_minor": 5
}
