{
 "cells": [
  {
   "cell_type": "markdown",
   "metadata": {},
   "source": [
    "# Configuration Space\n",
    "*This notebook introduces the configuration space.*\n",
    "* Configuration Space (C-Space): The n-dimensional space containing all possible configurations of the robot.\n",
    "\n",
    "\n"
   ]
  },
  {
   "cell_type": "markdown",
   "metadata": {},
   "source": [
    "## Table of Contents\n",
    "\n",
    "* [1. Configuration Space Topology](#01)\n",
    "* [2. Space Topology Representation](#02)\n",
    "* [3. Task Space and Workspace](#03)\n"
   ]
  },
  {
   "cell_type": "markdown",
   "metadata": {},
   "source": [
    "## Configuration Space Topology <a class=\"anchor\" id=\"01\"></a>\n",
    "* Dimension of a robot’s C-space: DoF\n",
    "* Shape of a robot's C-space: Space Topology\n",
    "* Topologically equivalent: if one space can be continuously deformed into the other without cutting or gluing.\n",
    "![Configuration_Space](img/02-Configuration_Space/Configuration_space.png)\n",
    "\n",
    "Example of the configuration of robots and c-space (on the left: robot DOFs, on the right: c-space dimensions)\n",
    "\n",
    "* A planar, circular omni-dirve robot has 2 degrees of freedom: (x,y). \n",
    "![c_space_example1](img/02-Configuration_Space/c_space_example1.png)\n",
    "* A planar odometry robot capable of translation and rotation has 3 degrees of freedom: (x,y,&theta).\n",
    "![c_space_example2](img/02-Configuration_Space/c_space_example2.png)\n",
    "* A planar 2-link arm robot fixed at the based and with two revolute (rotational) joints, one at the base, and one at the elbow, has 2 DOFs (one for each joint): (theta1, theta2). \n",
    "![c_space_example3](img/02-Configuration_Space/c_space_example3.png)"
   ]
  },
  {
   "cell_type": "markdown",
   "metadata": {},
   "source": [
    "## Space Topology Representation <a class=\"anchor\" id=\"02\"></a>\n",
    "\n",
    "* One-dimensional spaces include the circle, the line, and a closed interval of the line.\n",
    "    * Circle:  $S^1$ , one-dimensional “sphere” \n",
    "    * Line: $E^1$ or $R^1$\n",
    "* N-dimensional: $E^n$ or $R^n$\n",
    "* Cartesian product of two or more space of lower dimension, i.e., points can be represented as the union of the representations of points in the lower-dimensional spaces.\n",
    "* Examples:\n",
    "     * C-space of a rigid body in the plane: $R^2 \\times S^1$\n",
    "     * C-space of a 2 revolute-joint robot arm: $S^1\\times S^1$\n",
    "    \n",
    "Four topologically different two-dimensional C-spaces and example coordinate representations.\n",
    "![DOF_example](img/02-Configuration_Space/configuration_Space_topology_representation.png)"
   ]
  },
  {
   "cell_type": "markdown",
   "metadata": {},
   "source": [
    "## Task Space and Workspace <a class=\"anchor\" id=\"03\"></a>\n",
    "* The task space is a space in which the robot’s task can be naturally expressed.\n",
    "* The workspace is a specification of the configurations that the end-effector of the robot can reach.\n",
    "![DOF_example](img/02-Configuration_Space/workspace_taskspace.png)\n",
    "* (a) a planar 2R open chain \n",
    "* (b) a planar 3R open chain\n",
    "* (c) a spherical 2R open chain\n",
    "* (d) a 3R orienting mechanism\n"
   ]
  },
  {
   "cell_type": "markdown",
   "metadata": {},
   "source": [
    "### Demonstration of Configuration Space\n",
    "Please use the [link](https://www.cs.unc.edu/~jeffi/c-space/robot.xhtml) to visualize of 2-D robotic manipulator."
   ]
  }
 ],
 "metadata": {
  "kernelspec": {
   "display_name": "cs_898_aw",
   "language": "python",
   "name": "cs_898_aw"
  },
  "language_info": {
   "codemirror_mode": {
    "name": "ipython",
    "version": 3
   },
   "file_extension": ".py",
   "mimetype": "text/x-python",
   "name": "python",
   "nbconvert_exporter": "python",
   "pygments_lexer": "ipython3",
   "version": "3.7.10"
  }
 },
 "nbformat": 4,
 "nbformat_minor": 2
}
