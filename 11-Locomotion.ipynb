{
 "cells": [
  {
   "cell_type": "markdown",
   "source": [
    "# Locomotion"
   ],
   "metadata": {}
  },
  {
   "cell_type": "markdown",
   "source": [
    "## What is mobile robot?\n",
    "\n",
    "Mobile robot is a class of robots that are able to move the platform around the environment.\n",
    "\n",
    "Mobile robot can move over diversity of terrians such as:\n",
    "\n",
    "- On the ground\n",
    "- On the water\n",
    "- Through the air\n",
    "\n",
    "Due to different diversity in environment and platform, robot's physical movement principal is also different.  \n",
    "\n",
    "## What is Locomotion in robotics?\n",
    "\n",
    "Locomotion is method used to physically transport robot from one location to another.\n",
    "\n",
    "Although the locomotion approach depends on various of criteria:\n",
    "    \n",
    "- robot platform\n",
    "- environmental quality\n",
    "- moving and controlling mechanism\n",
    "\n",
    "the core concept of locomotion is the same -- moving from place A to place B. \n",
    "\n",
    "## Classes of Locomotion in robotics?\n",
    "\n",
    "There are some common types of locomotion, based on their typical movements:\n",
    "    \n",
    "- Wheeled locomotion\n",
    "- Legged locomotion\n",
    "- Quadrotor locomotion\n",
    "\n",
    "Each of these locomotions can be further classified by:\n",
    "\n",
    "- Reactive System or Trajectory Following\n",
    "- Robotic model\n",
    "- Kinematic and Dynamic model: How velocity, new position are mathematically computed\n",
    "\n",
    "\n",
    "\n",
    "## Wheeled locomotion\n",
    "\n",
    "### Introduction\n",
    "\n",
    "Wheel is one of the most greatest innovation of humanity for locomotion. Therefore, it intuitively becomes one of the most common and effective way for moving on the ground. \n",
    "\n",
    "However, wheel-locomotion also has some limitations:\n",
    "    \n",
    "- can not move side-way\n",
    "- can not rotate on the spot\n"
   ],
   "metadata": {}
  },
  {
   "cell_type": "markdown",
   "source": [
    "### Locomotion based on Kinematic/Dynamic Model\n",
    "\n",
    "Wheeled-Locomotion can be based on wheel-type information \n",
    "\n",
    "<img src=\"img/types_of_wheel.png\" width=\"500\"/>"
   ],
   "metadata": {}
  },
  {
   "cell_type": "code",
   "execution_count": 1,
   "source": [
    "# Type a) Standard wheel\n",
    "import pybullet as p\n",
    "import time\n",
    "import numpy\n",
    "from pathlib import Path\n",
    "\n",
    "client = p.connect(p.GUI)\n",
    "p.setAdditionalSearchPath(\"urdf/standard_wheel\")\n",
    "p.loadURDF(\"caster.urdf\")\n",
    "time.sleep(50)\n",
    "p.disconnect()\n"
   ],
   "outputs": [],
   "metadata": {}
  },
  {
   "cell_type": "code",
   "execution_count": 3,
   "source": [
    "# Type c) Swedish wheel\n",
    "import pybullet as p\n",
    "import time\n",
    "import numpy\n",
    "from pathlib import Path \n",
    "\n",
    "client = p.connect(p.GUI)\n",
    "p.setAdditionalSearchPath(\"urdf/swedish_wheel\")\n",
    "p.loadURDF(\"mpo_500.urdf\")\n",
    "time.sleep(50)\n",
    "p.disconnect()"
   ],
   "outputs": [],
   "metadata": {}
  },
  {
   "cell_type": "markdown",
   "source": [
    "### Locomotion based on wheel-types\n",
    "\n",
    "There are 2 main of locomotions for wheeled-vehicle:\n",
    "\n",
    "- Ackermann model (kinematic bicycle model)\n",
    "- Differential model"
   ],
   "metadata": {}
  },
  {
   "cell_type": "markdown",
   "source": [
    "\n",
    "#### Ackermann model\n",
    "<!-- ![Ackermann example](img/ackermann_model.png) -->\n",
    "<img src=\"img/ackermann_model.png\" width=\"500\"/>\n",
    "\n",
    "Ackermann model is commonly used for low-speed behavior automobile. \n",
    "\n",
    "A 4-wheel vehicle can be modeled using 2 imaginary wheels:\n",
    "\n",
    "- Steer wheel (Front wheel): \n",
    "  - that is controllable by the driver\n",
    "  - Accepting inputs: force and yaw-rotation \n",
    "- Rear wheel (Back wheel): \n",
    "  - fixed to the body"
   ],
   "metadata": {}
  },
  {
   "cell_type": "markdown",
   "source": [
    "### Differentially-Steered model\n",
    "\n",
    "<img src=\"img/differential_model.png\" width=\"500\"/>\n",
    "\n"
   ],
   "metadata": {}
  }
 ],
 "metadata": {
  "language_info": {
   "name": "python",
   "version": "3.7.1",
   "mimetype": "text/x-python",
   "codemirror_mode": {
    "name": "ipython",
    "version": 3
   },
   "pygments_lexer": "ipython3",
   "nbconvert_exporter": "python",
   "file_extension": ".py"
  },
  "kernelspec": {
   "name": "python3",
   "display_name": "Python 3.7.1 64-bit ('env_3.7': venv)"
  },
  "interpreter": {
   "hash": "c3b328e53be9a49d760e50ae076864ef825be9573fca28a43211b271653619b2"
  }
 },
 "nbformat": 4,
 "nbformat_minor": 5
}