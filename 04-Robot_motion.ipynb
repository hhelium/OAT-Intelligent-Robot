{
 "cells": [
  {
   "cell_type": "markdown",
   "metadata": {},
   "source": [
    "## Table of Contents\n",
    "\n",
    "* [1. 3D Rigid-Body Motion](#01)\n",
    "* [2. Homogeneous Transformation](#02)\n",
    "* [3. Code Examples](#03)\n",
    "   \n"
   ]
  },
  {
   "cell_type": "markdown",
   "metadata": {},
   "source": [
    "## 3D Rigid-Body Motion<a class=\"anchor\" id=\"01\"></a>\n",
    "\n",
    "![3D_rigid_body](img/03-Coordinate_transformation/3D_rigid_body_motion.png)\n",
    "Let $p$ denote the vector from the fixed-frame origin to the body-frame origin. In terms of the fixed-frame coordinates, p can be expressed as: \n",
    "$$p=p_1\\hat{x}_s+p_2\\hat{y}_s+p_3\\hat{z}_s$$\n",
    "The axes of the body frame can also be expressed as:\n",
    "$$\\hat{x}_b=r_11\\hat{x}_s+r_21\\hat{y}_s+r_31\\hat{z}_s\\\\\n",
    "\\hat{y}_b=r_12\\hat{x}_s+r_22\\hat{y}_s+r_32\\hat{z}_s\\\\\n",
    "\\hat{z}_b=r_13\\hat{x}_s+r_23\\hat{y}_s+r_33\\hat{z}_s$$\n",
    "Defining $p\\in \\mathbb{R}^3$ and $R\\in \\mathbb{R}^{3\\times3}$ as: \n",
    "$$p=\\begin{bmatrix}p_1 \\\\\n",
    "                  p_2 \\\\\n",
    "                  p_3 \\\\\n",
    "   \\end{bmatrix}, R=\\begin{bmatrix}\\hat{x}_b & \\hat{y}_b & \\hat{z}_b \\end{bmatrix}=\n",
    "   \\begin{bmatrix}r_{11} & r_{12} & r_{13}\\\\\n",
    "                  r_{21} & r_{22} & r_{23}\\\\\n",
    "                  r_{31} & r_{32} & r_{33}\\\\\n",
    "                  \\end{bmatrix}$$\n",
    "Since the orientation of a rigid body has three degrees of freedom, only three\n",
    "of the nine entries in R can be chosen independently. One three-parameter representation of rotations is provided by the exponential coordinates, which define an axis of rotation and the angle rotated about that axis.\n"
   ]
  },
  {
   "cell_type": "markdown",
   "metadata": {},
   "source": [
    "## Homogeneous Transformation <a class=\"anchor\" id=\"02\"></a>\n",
    "\n",
    "In linear algebra, linear transformations can be represented by matrices. If {\\displaystyle T}T is a linear transformation mapping ${\\displaystyle \\mathbb {R} ^{n}}$ to ${\\displaystyle \\mathbb {R} ^{m}}$ and ${\\displaystyle \\mathbf {x}}$ is a column vector with ${\\displaystyle n}$ entries, then\n",
    "\n",
    "$${\\displaystyle T(\\mathbf {x} )=A\\mathbf {x} }$$ \n",
    "for some ${\\displaystyle m\\times n}$ matrix ${\\displaystyle A}$, called the transformation matrix of ${\\displaystyle T}$. Note that ${\\displaystyle A}$ has ${\\displaystyle m}$ rows and ${\\displaystyle n}n$, whereas the transformation ${\\displaystyle T}$ is from ${\\displaystyle \\mathbb {R} ^{n}}$ to ${\\displaystyle \\mathbb {R} ^{m}}$. There are alternative expressions of transformation matrices involving row vectors that are preferred by some authors.\n",
    "\n",
    "The homogeneous transformation matices are  $4\\times4$ in Euclidean group $SE(3)$ is :\n",
    "\n",
    "$$T=\\begin{bmatrix}R & p \\\\\n",
    "                     0 & 1 \\\\\n",
    "                     \\end{bmatrix}$$\n",
    "where $R\\in SO(3)$ and $p\\in \\mathbb{R}^3$                  \n",
    "### Properties of Transformation Matrices\n",
    "* The inverse of a transformation matrix is also a transformation matrix\n",
    "$$T^{-1}={\\begin{bmatrix}R & p \\\\\n",
    "                      0 & 1 \\\\\n",
    "                      \\end{bmatrix}}^{-1}={\\begin{bmatrix}R^T & -R^Tp\\\\\n",
    "                                                          0 & 1\\end{bmatrix}}$$\n",
    "* The product of two transformation matrices is also a transformation matrix. \n",
    "* The multiplication of transformation matrices is associative but generally not commutative\n",
    "\n",
    "### Uses of Transformation Matrices\n",
    "* to represent the configuration (position and orientation) of a rigid body\n",
    "* to change the reference frame in which a vector or frame is represented; \n",
    "* to displace a vector or frame."
   ]
  },
  {
   "cell_type": "markdown",
   "metadata": {},
   "source": [
    "## Code Examples<a class=\"anchor\" id=\"01\"></a>\n",
    "### Example of translation\n",
    "* Original center of a frame is located at $(0,0,0)$.\n",
    "* The original frame is translated from $(0,0,0)$ to $(1.3,0,0)$\n",
    "\n"
   ]
  },
  {
   "cell_type": "code",
   "execution_count": 1,
   "metadata": {},
   "outputs": [
    {
     "name": "stdout",
     "output_type": "stream",
     "text": [
      "Center of mesh:  [0.05167549 0.05167549 0.05167549]\n",
      "Center of mesh tx:  [1.35167549 0.05167549 0.05167549]\n"
     ]
    }
   ],
   "source": [
    "import open3d as o3d\n",
    "import copy \n",
    "import numpy as np\n",
    "mesh = o3d.geometry.TriangleMesh.create_coordinate_frame()\n",
    "mesh_tx = copy.deepcopy(mesh).translate((1.3, 0, 0))\n",
    "\n",
    "print('Center of mesh: ', mesh.get_center())\n",
    "print('Center of mesh tx: ', mesh_tx.get_center())\n",
    "\n",
    "o3d.visualization.draw_geometries([mesh, mesh_tx])"
   ]
  },
  {
   "cell_type": "markdown",
   "metadata": {},
   "source": [
    "* The original frame is translated to $(1.3,1.3,0)$ "
   ]
  },
  {
   "cell_type": "code",
   "execution_count": 2,
   "metadata": {},
   "outputs": [
    {
     "name": "stdout",
     "output_type": "stream",
     "text": [
      "Center of mesh ty:  [1.35167549 1.35167549 0.05167549]\n"
     ]
    }
   ],
   "source": [
    "mesh_ty = copy.deepcopy(mesh_tx).translate((0, 1.3, 0))\n",
    "print('Center of mesh ty: ', mesh_ty.get_center())\n",
    "o3d.visualization.draw_geometries([mesh, mesh_ty])"
   ]
  },
  {
   "cell_type": "markdown",
   "metadata": {},
   "source": [
    "### Example of rotation\n",
    "* Original center of a frame is located at $(0,0,0)$.\n",
    "* The original frame is translated from $(0,0,0)$ to $90^ {\\circ} $ along x-axis."
   ]
  },
  {
   "cell_type": "code",
   "execution_count": 5,
   "metadata": {},
   "outputs": [
    {
     "name": "stdout",
     "output_type": "stream",
     "text": [
      "[[ 1.000000e+00  0.000000e+00  0.000000e+00]\n",
      " [ 0.000000e+00  6.123234e-17 -1.000000e+00]\n",
      " [ 0.000000e+00  1.000000e+00  6.123234e-17]]\n",
      "<class 'open3d.open3d.geometry.TriangleMesh'>\n"
     ]
    }
   ],
   "source": [
    "mesh_r = copy.deepcopy(mesh)\n",
    "R = mesh.get_rotation_matrix_from_xyz((np.pi / 2, 0, 0))\n",
    "print(R)\n",
    "print(type(mesh_r))\n",
    "mesh_r.rotate(R, center=False)\n",
    "o3d.visualization.draw_geometries([mesh, mesh_r])"
   ]
  },
  {
   "cell_type": "markdown",
   "metadata": {},
   "source": [
    "### Example of Scale\n"
   ]
  },
  {
   "cell_type": "code",
   "execution_count": 4,
   "metadata": {},
   "outputs": [],
   "source": [
    "mesh_s = copy.deepcopy(mesh).translate((2,0,0))\n",
    "mesh_s.scale(0.5, center=False)\n",
    "o3d.visualization.draw_geometries([mesh, mesh_s])"
   ]
  }
 ],
 "metadata": {
  "kernelspec": {
   "display_name": "Python 3 (ipykernel)",
   "language": "python",
   "name": "python3"
  },
  "language_info": {
   "codemirror_mode": {
    "name": "ipython",
    "version": 3
   },
   "file_extension": ".py",
   "mimetype": "text/x-python",
   "name": "python",
   "nbconvert_exporter": "python",
   "pygments_lexer": "ipython3",
   "version": "3.7.10"
  }
 },
 "nbformat": 4,
 "nbformat_minor": 2
}
