{
 "cells": [
  {
   "cell_type": "markdown",
   "metadata": {},
   "source": [
    "<h1>Table of Contents<span class=\"tocSkip\"></span></h1>\n",
    "<div class=\"toc\">\n",
    "    <ul class=\"toc-item\">\n",
    "        <li>\n",
    "            <span><a href=\"#Inverse-Kinematics\" data-toc-modified-id=\"Inverse-Kinematics-1\">\n",
    "            <span class=\"toc-item-num\">1&nbsp;&nbsp;</span>Inverse Kinematics</a></span>\n",
    "        </li>        \n",
    "        <li>\n",
    "            <span><a href=\"#Analytic-Inverse-Kinematics\" data-toc-modified-id=\"Analytic-Inverse-Kinematics-2\">\n",
    "            <span class=\"toc-item-num\">2&nbsp;&nbsp;</span>Analytic Inverse Kinematics</a></span>\n",
    "        </li>        \n",
    "        <li>\n",
    "            <span><a href=\"#Numerical-Inverse-Kinematics\" data-toc-modified-id=\"Numerical-Inverse-Kinematics-3\">\n",
    "            <span class=\"toc-item-num\">3&nbsp;&nbsp;</span>Numerical Inverse Kinematics</a></span>\n",
    "        </li>\n",
    "    </ul>\n",
    "</div>"
   ]
  },
  {
   "cell_type": "markdown",
   "metadata": {},
   "source": [
    "## Inverse Kinematics\n",
    "*Inverse kinematics* is the mathematical process of calculating the variable joint parameters needed to place the end of a kinematic chain, such as a robot manipulator or animation character's skeleton, in a given position and orientation relative to the start of the chain [[wiki](https://en.wikipedia.org/wiki/Inverse_kinematics)] or in simple worlds, given the position and orientation of the end-effector, find the corresponding joint angles of the robot.\n",
    "Two method are commonly used in calculation the inverse kinematics: Analytic Inverse Kinematics and Numerical Inverse Kinematics"
   ]
  },
  {
   "cell_type": "markdown",
   "metadata": {},
   "source": [
    "## Analytic Inverse Kinematics"
   ]
  },
  {
   "cell_type": "markdown",
   "metadata": {},
   "source": [
    "For a 6R robot, From PoE forward kniematics representation, we can get that $ T = e^{[S_{1}]\\theta_{1}}e^{[S_{2}]\\theta_{2}}e^{[S_{3}]\\theta_{3}}e^{[S_{4}]\\theta_{4}}e^{[S_{5}]\\theta_{5}}e^{[S_{6}]\\theta_{6}}M $. Given some end-effector frame $X$, the inverse kinematics problem is to find solutions $\\theta ∈ R_{6}$ satisfying $T(\\theta) = X$. The calculation can be calculated using basic trigonometry based on the configuration of the robot, however, this mehod is not accurate enough and sometimes impossible to find a solution for certain configuration of robot."
   ]
  },
  {
   "cell_type": "markdown",
   "metadata": {},
   "source": [
    "## Numerical Inverse Kinematics"
   ]
  },
  {
   "cell_type": "markdown",
   "metadata": {},
   "source": [
    "Iterative numerical methods can be applied if the inverse kinematics equations do not admit analytic solutions. Even in cases where an analytic solution does exist, numerical methods are often used to improve the accuracy of these solutions. The aim is to transform the inverse kinematics equations so that they become amenable to existing numerical methods. "
   ]
  },
  {
   "cell_type": "markdown",
   "metadata": {},
   "source": [
    "### Newton–Raphson method"
   ]
  },
  {
   "cell_type": "markdown",
   "metadata": {},
   "source": [
    "The Newton-Raphson method (also known as Newton's method) is a way to quickly find a good approximation for the root of a real-valued function $g(\\theta)=0$. It uses the idea that a continuous and differentiable function can be approximated by a straight line tangent to it."
   ]
  },
  {
   "cell_type": "markdown",
   "metadata": {},
   "source": [
    "Suppose you need to find the root of a continuous, differentiable function $g(\\theta)$, and you know the root you are looking for is near the point $\\theta=\\theta^{0}$. Then Newton's method tells us that a better approximation for the root is $\\theta^{1} = \\theta^{0} - \\frac{g(\\theta^{0})}{g^{'}(\\theta^{0})}$.\n",
    "This process may be repeated as many times as necessary to get the desired accuracy. In general, for any $\\theta$-value $\\theta^{k}$, the next value is given by $\\theta^{k+1} = \\theta^{k} - \\frac{g(\\theta^{k})}{g^{'}(\\theta^{k})}$. \n",
    "\n",
    "The same formula applies for the case when $g$ is multi-dimensional, i.e., $g : R^{n} →R^{n}$, in which case\n",
    "![local image](img/nmr.png)"
   ]
  },
  {
   "cell_type": "markdown",
   "metadata": {},
   "source": [
    "Note that Newton's method may not work if there are points of inflection, local maxima or minima around $\\theta^{0}$ or the root [[Brilliant Math & Science Wiki](https://brilliant.org/wiki/newton-raphson-method/)]."
   ]
  },
  {
   "cell_type": "markdown",
   "metadata": {},
   "source": [
    "#### Sample code for Newton–Raphson method"
   ]
  },
  {
   "cell_type": "code",
   "execution_count": 1,
   "metadata": {},
   "outputs": [
    {
     "name": "stdout",
     "output_type": "stream",
     "text": [
      "The value of the root is :  -1.0000\n"
     ]
    }
   ],
   "source": [
    "# Python3 code for implementation of Newton\n",
    "# Raphson Method for solving equations\n",
    " \n",
    "# An example function whose solution\n",
    "# is determined using Bisection Method.\n",
    "# The function is x^3 - x^2 + 2\n",
    "def func( x ):\n",
    "    return x * x * x - x * x + 2\n",
    " \n",
    "# Derivative of the above function\n",
    "# which is 3*x^x - 2*x\n",
    "def derivFunc( x ):\n",
    "    return 3 * x * x - 2 * x\n",
    " \n",
    "# Function to find the root\n",
    "def newtonRaphson( x ):\n",
    "    h = func(x) / derivFunc(x)\n",
    "    while abs(h) >= 0.0001:\n",
    "        h = func(x)/derivFunc(x)\n",
    "         \n",
    "        # x(i+1) = x(i) - f(x) / f'(x)\n",
    "        x = x - h\n",
    "     \n",
    "    print(\"The value of the root is : \", \"%.4f\"% x)\n",
    " \n",
    "# Driver program to test above\n",
    "x0 = -20 # Initial values assumed\n",
    "newtonRaphson(x0)\n",
    " \n",
    "# This code is contributed by \"Sharad_Bhardwaj\""
   ]
  },
  {
   "cell_type": "markdown",
   "metadata": {},
   "source": [
    "### Numerical Inverse Kinematics Algorithm"
   ]
  },
  {
   "cell_type": "markdown",
   "metadata": {},
   "source": [
    "Suppose we express the end-effector frame using a coordinate vector $x$ governed\n",
    "by the forward kinematics $x = f(θ)$, a nonlinear vector equation mapping the n\n",
    "joint coordinates to the m end-effector coordinates. Assume that $f : R^{n}→R^{m}$\n",
    "is differentiable, and let xd be the desired end-effector coordinates. Then $g(θ)$\n",
    "for the Newton-Raphson method is defined as $g(θ) = x_{d} −f(θ)$, and the goal is\n",
    "to find joint coordinates $x_{d}$ such that \n",
    "![local image](img/e1.png)\n"
   ]
  },
  {
   "cell_type": "markdown",
   "metadata": {},
   "source": [
    "Given an initial guess $θ_{0}$ which is “close to” a solution θd, the kinematics can\n",
    "be expressed as the Taylor expansion\n",
    "![local image](img/e2.png)\n"
   ]
  },
  {
   "cell_type": "markdown",
   "metadata": {},
   "source": [
    "where $J(θ^{0}) ∈ R^{m×n}$ is the coordinate Jacobian evaluated at $θ^{0}$. Truncating the Taylor expansion at first order, we can approximate the above equation as\n",
    "![local image](img/e2.png)"
   ]
  },
  {
   "cell_type": "markdown",
   "metadata": {},
   "source": [
    "Assuming that $J(θ^{0})$ is square $(m = n)$ and invertible, we can solve for $∆θ$ as\n",
    "![local image](img/e3.png)"
   ]
  },
  {
   "cell_type": "markdown",
   "metadata": {},
   "source": [
    "If the forward kinematics is linear in $θ$, i.e., the higher-order terms are zero, then the new guess $θ^{1} = θ^{0} + ∆θ $ exactly satisfies $x_{d} = f(θ^{1})$. If the forward kinematics is not linear in $θ$, as is usually the case, the new guess $θ^{1}$ should still be closer to the root than $θ^{0}$, and the process is then repeated,\n",
    "producing a sequence {$θ^{1}$,$θ^{2}$,$θ^{3}$,...} converging to $θ^{d}$. "
   ]
  },
  {
   "cell_type": "markdown",
   "metadata": {},
   "source": [
    "Practical Issues:\n",
    "1. Use matrix decomposition or optimization methods (least square) instead of computing the inverse of a Jacobian matrix.\n",
    "2. If the inverse of a Jacobian matrix does not exist, use pseudoinverse.\n",
    "3. Optimize on configurations (twists) not on transformation matrices (converted to twists)."
   ]
  },
  {
   "cell_type": "markdown",
   "metadata": {},
   "source": [
    "#### Jacobian Example Code"
   ]
  },
  {
   "cell_type": "code",
   "execution_count": 3,
   "metadata": {},
   "outputs": [
    {
     "name": "stdout",
     "output_type": "stream",
     "text": [
      "A:\n",
      "array([[2., 1.],\n",
      "       [5., 7.]])\n",
      "b:\n",
      "array([11., 13.])\n",
      "x:\n",
      "array([ 7.11110202, -3.22220342])\n"
     ]
    }
   ],
   "source": [
    "# Source https://www.quantstart.com/articles/Jacobi-Method-in-Python-and-NumPy/\n",
    "from pprint import pprint\n",
    "from numpy import array, zeros, diag, diagflat, dot\n",
    "\n",
    "def jacobi(A,b,N=25,x=None):\n",
    "    \"\"\"Solves the equation Ax=b via the Jacobi iterative method.\"\"\"\n",
    "    # Create an initial guess if needed                                                                                                                                                            \n",
    "    if x is None:\n",
    "        x = zeros(len(A[0]))\n",
    "\n",
    "    # Create a vector of the diagonal elements of A                                                                                                                                                \n",
    "    # and subtract them from A                                                                                                                                                                     \n",
    "    D = diag(A)\n",
    "    R = A - diagflat(D)\n",
    "\n",
    "    # Iterate for N times                                                                                                                                                                          \n",
    "    for i in range(N):\n",
    "        x = (b - dot(R,x)) / D\n",
    "    return x\n",
    "\n",
    "A = array([[2.0,1.0],[5.0,7.0]])\n",
    "b = array([11.0,13.0])\n",
    "guess = array([1.0,1.0])\n",
    "\n",
    "sol = jacobi(A,b,N=25,x=guess)\n",
    "\n",
    "print (\"A:\")\n",
    "pprint(A)\n",
    "\n",
    "print (\"b:\")\n",
    "pprint(b)\n",
    "\n",
    "print (\"x:\")\n",
    "pprint(sol)\n"
   ]
  }
 ],
 "metadata": {
  "kernelspec": {
   "display_name": "Python 3",
   "language": "python",
   "name": "python3"
  },
  "language_info": {
   "codemirror_mode": {
    "name": "ipython",
    "version": 3
   },
   "file_extension": ".py",
   "mimetype": "text/x-python",
   "name": "python",
   "nbconvert_exporter": "python",
   "pygments_lexer": "ipython3",
   "version": "3.5.2"
  }
 },
 "nbformat": 4,
 "nbformat_minor": 5
}
