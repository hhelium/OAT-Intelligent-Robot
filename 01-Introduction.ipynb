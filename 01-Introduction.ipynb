{
 "cells": [
  {
   "cell_type": "markdown",
   "metadata": {},
   "source": [
    "# Introduction\n",
    "*This notebook introduces the fundamentals of robotics.*\n",
    "\n",
    "\n"
   ]
  },
  {
   "cell_type": "markdown",
   "metadata": {},
   "source": [
    "## Table of Contents\n",
    "\n",
    "* [1. Structure of a Robot Manipulator](#01)\n",
    "* [2. Manipulation Terminology](#02)\n",
    "* [3. Degrees of Freedom](#03)\n",
    "    * .[3.1 Degrees of Freedom of Rigid boy](#031)\n",
    "    * .[3.2 Typical Robot Joints](#032)    \n",
    "    * .[3.3 Degrees of Freedom of Robot](#033)\n",
    "\n"
   ]
  },
  {
   "cell_type": "markdown",
   "metadata": {},
   "source": [
    "## Structure of a Robot Manipulator <a class=\"anchor\" id=\"01\"></a>\n",
    "A robot is mechanically constructed by connecting a set of bodies, called **links**,\n",
    "to each other using various types of **joints**. **Actuators**, such as electric motors,\n",
    "deliver forces or torques that cause the robot’s links to move. Usually an **end-\n",
    "effector**, such as a gripper or hand for grasping and manipulating objects, is\n",
    "attached to a specific link. All the robots considered in this book have links\n",
    "that can be modeled as rigid bodies.An example of the structure of a robot manipulator can be showen in the following Figure.\n",
    "![Fig_1](img/01-Introduction/jpy_1_robot_link_end_effector.png)\n"
   ]
  },
  {
   "cell_type": "markdown",
   "metadata": {},
   "source": [
    "## Manipulation Terminology <a class=\"anchor\" id=\"02\"></a>\n",
    "* Robot Configuration: a complete specification of the position of every point of the robot. \n",
    "* Degrees of freedom (DoF): The minimum number of real-valued coordinates needed to represent a robot’s configurations.\n",
    "* Configuration space (C-space): The n-dimensional space containing all possible configurations of the robot."
   ]
  },
  {
   "cell_type": "markdown",
   "metadata": {},
   "source": [
    "## Degree of Freedoms <a class=\"anchor\" id=\"03\"></a>\n",
    "Degrees of freedom, in a mechanics context, are specific, defined modes in which a mechanical device or system can move. The number of degrees of freedom is equal to the total number of independent displacements or aspects of motion. A machine may operate in two or three dimensions but have more than three degrees of freedom. The term is widely used to define the motion capabilities of robots.[Link](https://whatis.techtarget.com/definition/degrees-of-freedom)\n",
    "\n",
    "### Degrees of Freedom of a Rigid Body <a class=\"anchor\" id=\"031\"></a>\n",
    "![DOF_example](img/01-Introduction/dof_example.png)\n",
    "* (a) Choosing three points fixed to the coin.\n",
    "* (b) Once the location of A is chosen, B must lie on a circle of radius dAB centered at A. Once the location of B is chosen, C must lie at the intersection of circles centered at A and B. Only one of these two intersections corresponds to the “heads up” configuration.\n",
    "* (c) The configuration of a coin in three-dimensional space is given by the three coordinates of A, two angles to the point B on the sphere of radius dAB centered at A, and one angle to the point C on the circle defined by the intersection of the a sphere centered at A and a sphere centered at B.\n",
    "\n",
    "degrees of freedom = (sum of freedoms of the points)-(number of **independent** constraints)<br>\n",
    "degrees of freedom = (# of the points)-(# of **independent** constraints)\n",
    "\n",
    "**Rigid Body:** In physics, a rigid body (also known as a rigid object) is a solid body in which deformation is zero or so small it can be neglected. The distance between any two given points on a rigid body remains constant in time regardless of external forces or moments exerted on it. A rigid body is usually considered as a continuous distribution of mass.\n",
    "\n",
    "**Spatial Rigid Body:** a rigid body moving in three-dimensional space.<br>\n",
    "**Planar Rigid Body:** a rigid body moving in a two-dimensional plane.\n",
    "\n",
    "**Determing the degrees of freedom of general robots:**\n",
    "degrees of freedom = (sum of freedoms of the bodies)-(number of **independent** constraints)\n",
    "\n",
    "### Typical of Robot Joints <a class=\"anchor\" id=\"032\"></a>\n",
    "**ASSUMPTION:** \n",
    "- Every joint connects exactly two links; joints that simultaneously connect three or more links are not considered. \n",
    "- A joint can be viewed as providing freedoms to allow one rigid body to move relative to another. \n",
    "- It can also be viewed as providing constraints on the possible motions of the two rigid bodies it connects.\n",
    "\n",
    "**Type of Robot Joints:**\n",
    "- **Revolute (R):** also called a hinge joint, allows rotational motion about the joint axis. <br>\n",
    "\n",
    "![Revolute_joint](img/01-Introduction/revolute_joint.png) ![Revolute_joint_animation](img/01-Introduction/revolute_joint_animation.gif)\n",
    "- **Prismatic (P):** also called a sliding or linear joint, allows translational (or rectilinear) motion along the direction of the joint axis.<br>\n",
    "\n",
    "![Prismatic_joint](img/01-Introduction/prismatic_joint.png) ![Prismatic_joint_animation](img/01-Introduction/prismatic_joint_animation.gif)\n",
    "- **Helical (H):**  also called a screw joint, allows simultaneous rotation and translation about a screw axis. <br>\n",
    "\n",
    "![Helical_joint](img/01-Introduction/helical_joint.png) ![Helical_joint_animaiton](img/01-Introduction/helical_joint_animation.gif)\n",
    "- **Cylindrical (C):** has two degrees of freedom and allows independent translations and rotations about a single fixed joint axis.<br>\n",
    "\n",
    "![Cylindrical_joint](img/01-Introduction/cylindrical_joint.png)![Cylindrical_joint_animation](img/01-Introduction/cylindrical_joint_animation.gif)\n",
    "- **Universal (U):**  is another two-degree of-freedom joint that consists of a pair of revolute joints arranged so that their joint axes are orthogonal.  <br>\n",
    "\n",
    "![Universal_joint](img/01-Introduction/universal_joint.png)![Universal_joint_animation](img/01-Introduction/universal_joint_animation.gif)\n",
    "- **Spherical (S):** also called a ball-and-socket joint, has three degrees of freedom and functions much like our shoulder joint.\n",
    "<br>\n",
    "\n",
    "![Spherical_joint](img/01-Introduction/spherical_joint.png)![Spherical_joint_animation](img/01-Introduction/spherical_joint_animation.gif)\n",
    "\n",
    "**DoF and Constraints of Common Joints:**\n",
    "![Constraints_of_common_joints](img/01-Introduction/constraints_of_common_joints.png)\n",
    "\n",
    "### Degrees of Freedom of Robots <a class=\"anchor\" id=\"033\"></a>\n",
    "####  Grübler’s Formula ####\n",
    "\n",
    "The number of degrees of freedom of a mechanism with links and joints can be\n",
    "calculated using Grübler’s formula. This formula holds only if all joint constraints are independent. If they are not independent then the formula provides a lower bound on the number of degrees of freedom.\n",
    "\n",
    "![grubler_formula](img/01-Introduction/grubler_formula.png)\n",
    "    - N: # of links\n",
    "    - J: # of joints (independent joints)\n",
    "    - m: DoF of a rigid body (m = 3 for planar mechanisms, m = 6 for spatial mechanisms) \n",
    "    - fi: DoF provided by a joint\n",
    "    - ci: # of constraints provided by a joint (fi+ ci = m)\n",
    "#### Mechanism\n",
    "- Open-chain mechanisms (also known as serial mechanisms): any mechanism without a closed loop.\n",
    "![open_chain_mechanism](img/01-Introduction/open_chain_mechanism.png)\n",
    "- Closed-chain mechanisms: any mechanism that has a closed loop.\n",
    "![close_chain_mechanism](img/01-Introduction/closed_chain_mechanism.png)\n"
   ]
  },
  {
   "cell_type": "markdown",
   "metadata": {},
   "source": [
    "### Example of Showing DoF ###\n",
    "An example of showing the left side end-effector (gripper) of a robot (Baxter) moving in 1 DoF (x-axis). "
   ]
  },
  {
   "cell_type": "code",
   "execution_count": null,
   "metadata": {},
   "outputs": [],
   "source": [
    "# pybullet version 3.1.16\n",
    "# numpy 1.21.1\n",
    "%run -i '../lib/01-Introduction/one_DoF_example.py'"
   ]
  },
  {
   "cell_type": "markdown",
   "metadata": {},
   "source": [
    "An example of showing the left side end-effector (gripper) of a robot (Baxter) moving in 2 DoF (x-axis). "
   ]
  },
  {
   "cell_type": "code",
   "execution_count": null,
   "metadata": {},
   "outputs": [],
   "source": [
    "%run -i '../lib/01-Introduction/two_DoF_example.py'"
   ]
  },
  {
   "cell_type": "markdown",
   "metadata": {},
   "source": [
    "An example of showing the left side end-effector (gripper) of a robot (Baxter) moving in 3 DoF (x-axis). "
   ]
  },
  {
   "cell_type": "code",
   "execution_count": null,
   "metadata": {},
   "outputs": [],
   "source": [
    "%run -i '../lib/01-Introduction/three_DoF_example.py'"
   ]
  }
 ],
 "metadata": {
  "kernelspec": {
   "display_name": "cs_898_aw",
   "language": "python",
   "name": "cs_898_aw"
  },
  "language_info": {
   "codemirror_mode": {
    "name": "ipython",
    "version": 3
   },
   "file_extension": ".py",
   "mimetype": "text/x-python",
   "name": "python",
   "nbconvert_exporter": "python",
   "pygments_lexer": "ipython3",
   "version": "3.7.10"
  }
 },
 "nbformat": 4,
 "nbformat_minor": 2
}
